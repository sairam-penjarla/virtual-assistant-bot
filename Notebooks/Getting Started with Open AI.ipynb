{
 "cells": [
  {
   "cell_type": "markdown",
   "metadata": {},
   "source": [
    "# Tutorial: Using OpenAI's Language Models in Python\n",
    "\n",
    "This tutorial will walk you through the process of using OpenAI's GPT-based language models to create conversational AI systems. We'll explore different scenarios and build up functionality incrementally with clear examples.\n",
    "\n",
    "---\n",
    "\n",
    "## Prerequisites\n",
    "\n",
    "1. **Python Installation**: Ensure you have Python 3.7+ installed.\n",
    "2. **Install Required Libraries**:  \n",
    "   Install the `openai` library using pip:\n",
    "   ```bash\n",
    "   pip install openai python-dotenv\n",
    "   ```\n",
    "3. **Set Up an OpenAI API Key**:  \n",
    "   - Sign up at [OpenAI](https://platform.openai.com/) if you don't have an account.\n",
    "   - Generate an API key from your OpenAI dashboard.\n",
    "   - Store the key in a `.env` file for security:\n",
    "     ```plaintext\n",
    "     OPENAI_API_KEY=your_api_key_here\n",
    "     ```\n",
    "\n",
    "---\n"
   ]
  },
  {
   "cell_type": "markdown",
   "metadata": {},
   "source": [
    "## Step 1: Setting Up the Environment\n",
    "\n",
    "### Import Required Libraries and Load API Key\n",
    "The `dotenv` library is used to load the API key securely.\n"
   ]
  },
  {
   "cell_type": "code",
   "execution_count": 1,
   "metadata": {},
   "outputs": [
    {
     "data": {
      "text/plain": [
       "True"
      ]
     },
     "execution_count": 1,
     "metadata": {},
     "output_type": "execute_result"
    }
   ],
   "source": [
    "import os\n",
    "from dotenv import load_dotenv\n",
    "\n",
    "load_dotenv()"
   ]
  },
  {
   "cell_type": "code",
   "execution_count": null,
   "metadata": {},
   "outputs": [],
   "source": []
  },
  {
   "cell_type": "code",
   "execution_count": null,
   "metadata": {},
   "outputs": [],
   "source": []
  },
  {
   "cell_type": "code",
   "execution_count": null,
   "metadata": {},
   "outputs": [],
   "source": []
  },
  {
   "cell_type": "markdown",
   "metadata": {},
   "source": [
    "## Step 2: Initializing the OpenAI Client\n",
    "\n",
    "### Create Your First Chat Request\n",
    "Here, we create a simple system prompt and ask the model a question.\n",
    "\n",
    "\n",
    "### Explanation of Parameters\n",
    "- **`messages`**:  \n",
    "  A list of message objects defining the conversation. Each message has a `role` (`system`, `user`, or `assistant`) and `content`.\n",
    "- **`model`**:  \n",
    "  The model to use. `gpt-3.5-turbo` is a faster and cheaper version of GPT-4.\n",
    "- **`max_tokens`**:  \n",
    "  Limits the number of tokens (words/pieces of words) in the response.\n",
    "- **`temperature`**:  \n",
    "  Controls randomness in output. Lower values make it deterministic.\n"
   ]
  },
  {
   "cell_type": "code",
   "execution_count": null,
   "metadata": {},
   "outputs": [
    {
     "name": "stdout",
     "output_type": "stream",
     "text": [
      "Large Language Models (LLMs) are a type of artificial intelligence model that is trained to understand and generate human language. These models are built using deep learning techniques, particularly using neural networks with many layers. LLMs have the ability to process and\n"
     ]
    }
   ],
   "source": [
    "from openai import OpenAI\n",
    "\n",
    "client = OpenAI()\n",
    "\n",
    "chat_completion = client.chat.completions.create(\n",
    "                    messages=[\n",
    "                                {\n",
    "                                  \"role\": \"system\",\n",
    "                                  \"content\": \"You are an AI assistant\"\n",
    "                                },\n",
    "                                {\n",
    "                                  \"role\": \"user\",\n",
    "                                  \"content\": \"Tell me about Large Language Models\"\n",
    "                                }\n",
    "                              ],\n",
    "                    model=\"gpt-3.5-turbo\",\n",
    "                    max_tokens=50,\n",
    "                    temperature=0.7\n",
    "                  )\n",
    "print(chat_completion.choices[0].message.content)"
   ]
  },
  {
   "cell_type": "code",
   "execution_count": null,
   "metadata": {},
   "outputs": [],
   "source": []
  },
  {
   "cell_type": "code",
   "execution_count": null,
   "metadata": {},
   "outputs": [],
   "source": []
  },
  {
   "cell_type": "code",
   "execution_count": null,
   "metadata": {},
   "outputs": [],
   "source": []
  },
  {
   "cell_type": "code",
   "execution_count": null,
   "metadata": {},
   "outputs": [],
   "source": []
  },
  {
   "cell_type": "markdown",
   "metadata": {},
   "source": [
    "## Step 3: Managing Conversations Dynamically\n",
    "\n",
    "### Using a Persistent Conversation History\n",
    "We can dynamically add user inputs and assistant responses to maintain context.\n"
   ]
  },
  {
   "cell_type": "code",
   "execution_count": 3,
   "metadata": {},
   "outputs": [
    {
     "name": "stdout",
     "output_type": "stream",
     "text": [
      "Large Language Models are a type of artificial intelligence system that is designed to generate human-like text based on the input it receives. These models are trained on vast amounts of text data to learn the patterns and structure of language, allowing them to produce coherent and contextually relevant responses.\n",
      "\n",
      "One of the key characteristics of Large Language Models is their ability to generate text that is indistinguishable from that written by a human. This has led to a wide range of applications, including chatbots, language translation, content generation, and more.\n",
      "\n",
      "Some popular examples of Large Language Models include GPT-3 (Generative Pre-trained Transformer 3) developed by OpenAI, and BERT (Bidirectional Encoder Representations from Transformers) developed by Google.\n",
      "\n",
      "However, these models have also raised concerns about ethical implications, such as bias in the training data, misuse for generating fake news or misinformation, and potential threats to privacy and security. Researchers and developers are working to address these challenges and develop responsible AI practices for the use of Large Language Models.\n"
     ]
    }
   ],
   "source": [
    "from openai import OpenAI\n",
    "\n",
    "client = OpenAI()\n",
    "\n",
    "\n",
    "conversations = [\n",
    "  {\n",
    "    \"role\": \"system\",\n",
    "    \"content\": \"You are an AI assistant\"\n",
    "  }\n",
    "]\n",
    "\n",
    "conversations.append({\n",
    "    \"role\": \"user\",\n",
    "    \"content\": \"Tell me about Large Language Models\"\n",
    "  })\n",
    "\n",
    "chat_completion = client.chat.completions.create(\n",
    "                    messages=conversations,\n",
    "                    model=\"gpt-3.5-turbo\",\n",
    "                    max_tokens=256,\n",
    "                    temperature=0.7\n",
    "                  )\n",
    "\n",
    "print(chat_completion.choices[0].message.content)"
   ]
  },
  {
   "cell_type": "code",
   "execution_count": null,
   "metadata": {},
   "outputs": [],
   "source": []
  },
  {
   "cell_type": "code",
   "execution_count": null,
   "metadata": {},
   "outputs": [],
   "source": []
  },
  {
   "cell_type": "code",
   "execution_count": null,
   "metadata": {},
   "outputs": [],
   "source": []
  },
  {
   "cell_type": "code",
   "execution_count": null,
   "metadata": {},
   "outputs": [],
   "source": []
  },
  {
   "cell_type": "markdown",
   "metadata": {},
   "source": [
    "\n",
    "\n",
    "## Step 4: Modularizing with a Function\n",
    "\n",
    "### Repeatedly Interact with the LLM\n",
    "Define a function to handle user input and extend the conversation dynamically."
   ]
  },
  {
   "cell_type": "code",
   "execution_count": 4,
   "metadata": {},
   "outputs": [],
   "source": [
    "from openai import OpenAI\n",
    "\n",
    "client = OpenAI()\n",
    "\n",
    "\n",
    "conversations = [\n",
    "  {\n",
    "    \"role\": \"system\",\n",
    "    \"content\": \"You are an AI assistant\"\n",
    "  }\n",
    "]\n",
    "\n",
    "def invoke_llm(user_input):\n",
    "    conversations.append({\n",
    "        \"role\": \"user\",\n",
    "        \"content\": user_input\n",
    "    })\n",
    "\n",
    "    chat_completion = client.chat.completions.create(\n",
    "                        messages=conversations,\n",
    "                        model=\"gpt-3.5-turbo\",\n",
    "                        max_tokens=256,\n",
    "                        temperature=0.7\n",
    "                      )\n",
    "\n",
    "    llm_output = chat_completion.choices[0].message.content\n",
    "\n",
    "    conversations.append({\n",
    "        \"role\": \"assistant\",\n",
    "        \"content\": llm_output\n",
    "    })\n",
    "\n",
    "    return llm_output\n",
    "\n"
   ]
  },
  {
   "cell_type": "code",
   "execution_count": 5,
   "metadata": {},
   "outputs": [
    {
     "data": {
      "text/plain": [
       "'Large Language Models (LLMs) are a type of artificial intelligence model that are trained on massive amounts of text data to understand and generate human language. These models are based on deep learning techniques, particularly using transformer architectures like GPT-3 (Generative Pre-trained Transformer 3) developed by OpenAI.\\n\\nLLMs have the ability to understand and generate human-like text in various languages, and they have been used for a wide range of applications such as language translation, text summarization, chatbots, and content generation. They are capable of generating coherent and contextually relevant text responses based on the input they receive.\\n\\nOne of the key characteristics of LLMs is their scalability, meaning they can be trained on increasingly larger datasets to improve their performance and language understanding capabilities. However, the training of such models requires significant computational resources and data, which can raise concerns about ethical implications, data privacy, and potential biases in the generated content.\\n\\nOverall, Large Language Models have shown great potential in advancing natural language processing tasks and are expected to play a significant role in various AI applications in the future.'"
      ]
     },
     "execution_count": 5,
     "metadata": {},
     "output_type": "execute_result"
    }
   ],
   "source": [
    "invoke_llm(\"Tell me about Large Language Models\")"
   ]
  },
  {
   "cell_type": "code",
   "execution_count": null,
   "metadata": {},
   "outputs": [],
   "source": []
  },
  {
   "cell_type": "code",
   "execution_count": null,
   "metadata": {},
   "outputs": [],
   "source": []
  },
  {
   "cell_type": "code",
   "execution_count": null,
   "metadata": {},
   "outputs": [],
   "source": []
  },
  {
   "cell_type": "code",
   "execution_count": null,
   "metadata": {},
   "outputs": [],
   "source": []
  },
  {
   "cell_type": "code",
   "execution_count": null,
   "metadata": {},
   "outputs": [
    {
     "data": {
      "text/plain": [
       "\"Large Language Models started gaining significant popularity around 2019 with the release of OpenAI's GPT-2 model. The attention around these models increased even more in 2020 with the release of even larger models like GPT-3. These models demonstrated remarkable advancements in natural language processing capabilities and garnered widespread interest and adoption in various industries and research fields. As a result, Large Language Models have become increasingly popular and influential in the AI community over the past few years.\""
      ]
     },
     "execution_count": 6,
     "metadata": {},
     "output_type": "execute_result"
    }
   ],
   "source": [
    "invoke_llm(\"in which year did they become popular?\")"
   ]
  },
  {
   "cell_type": "code",
   "execution_count": null,
   "metadata": {},
   "outputs": [],
   "source": []
  },
  {
   "cell_type": "code",
   "execution_count": null,
   "metadata": {},
   "outputs": [],
   "source": []
  },
  {
   "cell_type": "code",
   "execution_count": null,
   "metadata": {},
   "outputs": [],
   "source": []
  },
  {
   "cell_type": "code",
   "execution_count": null,
   "metadata": {},
   "outputs": [],
   "source": []
  },
  {
   "cell_type": "code",
   "execution_count": 7,
   "metadata": {},
   "outputs": [
    {
     "data": {
      "text/plain": [
       "'As of now, Rockstar Games has not officially announced a release date for Grand Theft Auto VI (GTA 6). There has been much speculation and anticipation among fans for the next installment in the popular video game series, but Rockstar Games has remained tight-lipped about any details regarding GTA 6. It is common for game developers to keep information about upcoming releases confidential until they are ready to make an official announcement. Until Rockstar Games provides an official update, the release date for GTA 6 remains unknown.'"
      ]
     },
     "execution_count": 7,
     "metadata": {},
     "output_type": "execute_result"
    }
   ],
   "source": [
    "invoke_llm(\"in which year is GTA 6 comming out\")"
   ]
  },
  {
   "cell_type": "code",
   "execution_count": null,
   "metadata": {},
   "outputs": [],
   "source": []
  },
  {
   "cell_type": "code",
   "execution_count": null,
   "metadata": {},
   "outputs": [],
   "source": []
  },
  {
   "cell_type": "code",
   "execution_count": null,
   "metadata": {},
   "outputs": [],
   "source": []
  },
  {
   "cell_type": "code",
   "execution_count": null,
   "metadata": {},
   "outputs": [],
   "source": []
  },
  {
   "cell_type": "markdown",
   "metadata": {},
   "source": [
    "## Step 5: Adding Contextual Information\n",
    "\n",
    "### Incorporating Relevant Content\n",
    "You can include additional context for the model to answer specific questions.\n"
   ]
  },
  {
   "cell_type": "code",
   "execution_count": null,
   "metadata": {},
   "outputs": [],
   "source": [
    "from openai import OpenAI\n",
    "\n",
    "client = OpenAI()\n",
    "\n",
    "\n",
    "conversations = [\n",
    "  {\n",
    "    \"role\": \"system\",\n",
    "    \"content\": \"\"\"\n",
    "                You are an AI assistant who needs to answer user's \n",
    "                question using the provided relevant content\n",
    "                \"\"\"\n",
    "  }\n",
    "]\n",
    "\n",
    "def invoke_llm(content, user_input):\n",
    "    \n",
    "\n",
    "    msg = {\n",
    "        \"role\": \"user\",\n",
    "        \"content\": f\"relavant content: {content} user's question':{user_input}\"\n",
    "    }\n",
    "    chat_completion = client.chat.completions.create(\n",
    "                        messages=conversations + [msg],\n",
    "                        model=\"gpt-3.5-turbo\",\n",
    "                        max_tokens=256,\n",
    "                        temperature=0.7\n",
    "                      )\n",
    "\n",
    "    llm_output = chat_completion.choices[0].message.content\n",
    "\n",
    "    conversations.append(msg)\n",
    "    conversations.append({\n",
    "        \"role\": \"assistant\",\n",
    "        \"content\": llm_output\n",
    "    })\n",
    "\n",
    "    return llm_output\n"
   ]
  },
  {
   "cell_type": "code",
   "execution_count": null,
   "metadata": {},
   "outputs": [
    {
     "data": {
      "text/plain": [
       "'GTA 6 is expected to be released in 2025, as announced by Rockstar after releasing the trailer in 2024.'"
      ]
     },
     "execution_count": 9,
     "metadata": {},
     "output_type": "execute_result"
    }
   ],
   "source": [
    "invoke_llm(\n",
    "    content = \"\"\"\n",
    "            rockstar has released the trailer of GTA 6 on 2024 and has announced \n",
    "            that the game will out out in 2025\n",
    "            \"\"\",\n",
    "    user_input = \"in which year is GTA 6 comming out\"\n",
    ")"
   ]
  },
  {
   "cell_type": "markdown",
   "metadata": {},
   "source": [
    "## Summary and Best Practices\n",
    "\n",
    "- **Conversation Design**: Use `system` messages to guide the assistant's behavior.\n",
    "- **Reusability**: Encapsulate logic in functions for modularity.\n",
    "- **Relevance**: Provide relevant context when asking domain-specific questions.\n",
    "- **Parameter Tuning**: Experiment with `temperature`, `max_tokens`, and other parameters for optimal responses.\n",
    "\n",
    "With these techniques, you can leverage OpenAI's language models to build robust conversational systems tailored to your use case."
   ]
  }
 ],
 "metadata": {
  "kernelspec": {
   "display_name": "writer_env",
   "language": "python",
   "name": "python3"
  },
  "language_info": {
   "codemirror_mode": {
    "name": "ipython",
    "version": 3
   },
   "file_extension": ".py",
   "mimetype": "text/x-python",
   "name": "python",
   "nbconvert_exporter": "python",
   "pygments_lexer": "ipython3",
   "version": "3.11.10"
  }
 },
 "nbformat": 4,
 "nbformat_minor": 2
}
